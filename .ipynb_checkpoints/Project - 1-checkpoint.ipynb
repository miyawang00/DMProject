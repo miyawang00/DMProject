{
 "cells": [
  {
   "cell_type": "code",
   "execution_count": 1,
   "id": "0db23e58",
   "metadata": {},
   "outputs": [],
   "source": [
    "import numpy as np\n",
    "import pandas as pd\n",
    "from sklearn.compose import ColumnTransformer\n",
    "from sklearn.preprocessing import OneHotEncoder\n",
    "from sklearn.model_selection import train_test_split\n",
    "from sklearn.preprocessing import StandardScaler\n",
    "from sklearn.linear_model import LinearRegression\n",
    "from sklearn.metrics import r2_score, mean_squared_error, mean_absolute_error\n",
    "from matplotlib import pyplot as plt\n",
    "from joblib import dump, load"
   ]
  },
  {
   "cell_type": "code",
   "execution_count": 2,
   "id": "d067eb15",
   "metadata": {},
   "outputs": [
    {
     "data": {
      "text/html": [
       "<div>\n",
       "<style scoped>\n",
       "    .dataframe tbody tr th:only-of-type {\n",
       "        vertical-align: middle;\n",
       "    }\n",
       "\n",
       "    .dataframe tbody tr th {\n",
       "        vertical-align: top;\n",
       "    }\n",
       "\n",
       "    .dataframe thead th {\n",
       "        text-align: right;\n",
       "    }\n",
       "</style>\n",
       "<table border=\"1\" class=\"dataframe\">\n",
       "  <thead>\n",
       "    <tr style=\"text-align: right;\">\n",
       "      <th></th>\n",
       "      <th>from_airport_code</th>\n",
       "      <th>from_country</th>\n",
       "      <th>dest_airport_code</th>\n",
       "      <th>dest_country</th>\n",
       "      <th>aircraft_type</th>\n",
       "      <th>airline_number</th>\n",
       "      <th>airline_name</th>\n",
       "      <th>flight_number</th>\n",
       "      <th>departure_time</th>\n",
       "      <th>arrival_time</th>\n",
       "      <th>duration</th>\n",
       "      <th>stops</th>\n",
       "      <th>price</th>\n",
       "      <th>currency</th>\n",
       "      <th>co2_emissions</th>\n",
       "      <th>avg_co2_emission_for_this_route</th>\n",
       "      <th>co2_percentage</th>\n",
       "      <th>scan_date</th>\n",
       "    </tr>\n",
       "  </thead>\n",
       "  <tbody>\n",
       "    <tr>\n",
       "      <th>0</th>\n",
       "      <td>ALG</td>\n",
       "      <td>Algeria</td>\n",
       "      <td>AEP</td>\n",
       "      <td>Argentina</td>\n",
       "      <td>Airbus A318|Canadair RJ 1000|Airbus A330|Airbu...</td>\n",
       "      <td>multi</td>\n",
       "      <td>[Air France| Iberia| LATAM]</td>\n",
       "      <td>AF1491|AF1491|AF1491|AF1491</td>\n",
       "      <td>2022-04-30 14:30:00</td>\n",
       "      <td>2022-05-01 10:15:00</td>\n",
       "      <td>1425</td>\n",
       "      <td>3</td>\n",
       "      <td>1279.0</td>\n",
       "      <td>USD</td>\n",
       "      <td>1320000.0</td>\n",
       "      <td>1320000.0</td>\n",
       "      <td>0%</td>\n",
       "      <td>2022-04-29 17:52:59</td>\n",
       "    </tr>\n",
       "    <tr>\n",
       "      <th>1</th>\n",
       "      <td>ALG</td>\n",
       "      <td>Algeria</td>\n",
       "      <td>AEP</td>\n",
       "      <td>Argentina</td>\n",
       "      <td>Airbus A318|Canadair RJ 1000|Boeing 787|Airbus...</td>\n",
       "      <td>multi</td>\n",
       "      <td>[Air France| Iberia| LATAM]</td>\n",
       "      <td>AF1491|AF1491|AF1491|AF1491</td>\n",
       "      <td>2022-04-30 14:30:00</td>\n",
       "      <td>2022-05-01 10:15:00</td>\n",
       "      <td>1425</td>\n",
       "      <td>3</td>\n",
       "      <td>1279.0</td>\n",
       "      <td>USD</td>\n",
       "      <td>1195000.0</td>\n",
       "      <td>1320000.0</td>\n",
       "      <td>-9%</td>\n",
       "      <td>2022-04-29 17:52:59</td>\n",
       "    </tr>\n",
       "    <tr>\n",
       "      <th>2</th>\n",
       "      <td>ALG</td>\n",
       "      <td>Algeria</td>\n",
       "      <td>AEP</td>\n",
       "      <td>Argentina</td>\n",
       "      <td>Airbus A320|Airbus A321|Boeing 787|Airbus A320</td>\n",
       "      <td>multi</td>\n",
       "      <td>[Air France| LATAM]</td>\n",
       "      <td>AF1855|AF1855|AF1855|AF1855</td>\n",
       "      <td>2022-04-30 12:45:00</td>\n",
       "      <td>2022-05-01 10:15:00</td>\n",
       "      <td>1530</td>\n",
       "      <td>3</td>\n",
       "      <td>1284.0</td>\n",
       "      <td>USD</td>\n",
       "      <td>1248000.0</td>\n",
       "      <td>1320000.0</td>\n",
       "      <td>-5%</td>\n",
       "      <td>2022-04-29 17:52:59</td>\n",
       "    </tr>\n",
       "    <tr>\n",
       "      <th>3</th>\n",
       "      <td>ALG</td>\n",
       "      <td>Algeria</td>\n",
       "      <td>AEP</td>\n",
       "      <td>Argentina</td>\n",
       "      <td>Airbus A318|Airbus A320|Boeing 787|Airbus A320</td>\n",
       "      <td>multi</td>\n",
       "      <td>[Air France| LATAM]</td>\n",
       "      <td>AF1491|AF1491|AF1491|AF1491</td>\n",
       "      <td>2022-04-30 14:30:00</td>\n",
       "      <td>2022-05-01 10:15:00</td>\n",
       "      <td>1425</td>\n",
       "      <td>3</td>\n",
       "      <td>1290.0</td>\n",
       "      <td>USD</td>\n",
       "      <td>1347000.0</td>\n",
       "      <td>1320000.0</td>\n",
       "      <td>2%</td>\n",
       "      <td>2022-04-29 17:52:59</td>\n",
       "    </tr>\n",
       "    <tr>\n",
       "      <th>4</th>\n",
       "      <td>ALG</td>\n",
       "      <td>Algeria</td>\n",
       "      <td>AEP</td>\n",
       "      <td>Argentina</td>\n",
       "      <td>Airbus A321neo|Boeing 777|Airbus A320</td>\n",
       "      <td>multi</td>\n",
       "      <td>[Lufthansa| LATAM]</td>\n",
       "      <td>LH1317|LH1317|LH1317</td>\n",
       "      <td>2022-04-30 12:35:00</td>\n",
       "      <td>2022-05-01 10:15:00</td>\n",
       "      <td>1540</td>\n",
       "      <td>2</td>\n",
       "      <td>1347.0</td>\n",
       "      <td>USD</td>\n",
       "      <td>1381000.0</td>\n",
       "      <td>1320000.0</td>\n",
       "      <td>4%</td>\n",
       "      <td>2022-04-29 17:52:59</td>\n",
       "    </tr>\n",
       "  </tbody>\n",
       "</table>\n",
       "</div>"
      ],
      "text/plain": [
       "  from_airport_code from_country dest_airport_code dest_country  \\\n",
       "0               ALG      Algeria               AEP    Argentina   \n",
       "1               ALG      Algeria               AEP    Argentina   \n",
       "2               ALG      Algeria               AEP    Argentina   \n",
       "3               ALG      Algeria               AEP    Argentina   \n",
       "4               ALG      Algeria               AEP    Argentina   \n",
       "\n",
       "                                       aircraft_type airline_number  \\\n",
       "0  Airbus A318|Canadair RJ 1000|Airbus A330|Airbu...          multi   \n",
       "1  Airbus A318|Canadair RJ 1000|Boeing 787|Airbus...          multi   \n",
       "2     Airbus A320|Airbus A321|Boeing 787|Airbus A320          multi   \n",
       "3     Airbus A318|Airbus A320|Boeing 787|Airbus A320          multi   \n",
       "4              Airbus A321neo|Boeing 777|Airbus A320          multi   \n",
       "\n",
       "                  airline_name                flight_number  \\\n",
       "0  [Air France| Iberia| LATAM]  AF1491|AF1491|AF1491|AF1491   \n",
       "1  [Air France| Iberia| LATAM]  AF1491|AF1491|AF1491|AF1491   \n",
       "2          [Air France| LATAM]  AF1855|AF1855|AF1855|AF1855   \n",
       "3          [Air France| LATAM]  AF1491|AF1491|AF1491|AF1491   \n",
       "4           [Lufthansa| LATAM]         LH1317|LH1317|LH1317   \n",
       "\n",
       "        departure_time         arrival_time  duration  stops   price currency  \\\n",
       "0  2022-04-30 14:30:00  2022-05-01 10:15:00      1425      3  1279.0      USD   \n",
       "1  2022-04-30 14:30:00  2022-05-01 10:15:00      1425      3  1279.0      USD   \n",
       "2  2022-04-30 12:45:00  2022-05-01 10:15:00      1530      3  1284.0      USD   \n",
       "3  2022-04-30 14:30:00  2022-05-01 10:15:00      1425      3  1290.0      USD   \n",
       "4  2022-04-30 12:35:00  2022-05-01 10:15:00      1540      2  1347.0      USD   \n",
       "\n",
       "   co2_emissions  avg_co2_emission_for_this_route co2_percentage  \\\n",
       "0      1320000.0                        1320000.0             0%   \n",
       "1      1195000.0                        1320000.0            -9%   \n",
       "2      1248000.0                        1320000.0            -5%   \n",
       "3      1347000.0                        1320000.0             2%   \n",
       "4      1381000.0                        1320000.0             4%   \n",
       "\n",
       "             scan_date  \n",
       "0  2022-04-29 17:52:59  \n",
       "1  2022-04-29 17:52:59  \n",
       "2  2022-04-29 17:52:59  \n",
       "3  2022-04-29 17:52:59  \n",
       "4  2022-04-29 17:52:59  "
      ]
     },
     "execution_count": 2,
     "metadata": {},
     "output_type": "execute_result"
    }
   ],
   "source": [
    "import pandas as pd\n",
    "df = pd.read_csv('flight data.csv', on_bad_lines='skip')\n",
    "df.head(5)"
   ]
  },
  {
   "cell_type": "code",
   "execution_count": 3,
   "id": "f580ebca",
   "metadata": {},
   "outputs": [],
   "source": [
    "# Drop duplicate values\n",
    "df.drop_duplicates(inplace=True)\n",
    "\n",
    "# Drop rows with missing values\n",
    "df.dropna(inplace=True)"
   ]
  },
  {
   "cell_type": "code",
   "execution_count": 4,
   "id": "ffdc6be7",
   "metadata": {},
   "outputs": [
    {
     "name": "stderr",
     "output_type": "stream",
     "text": [
      "/var/folders/t3/ctmyp9cd5j7ctjhqp2_g843h0000gn/T/ipykernel_10075/555518936.py:3: FutureWarning: The default value of regex will change from True to False in a future version. In addition, single character regular expressions will *not* be treated as literal strings when regex=True.\n",
      "  df['airline_name'] = df['airline_name'].str.replace('[','').str.replace(']','')\n"
     ]
    }
   ],
   "source": [
    "# remove the airline_name column in  pandas DataFrame that contains square brackets []\n",
    "\n",
    "df['airline_name'] = df['airline_name'].str.replace('[','').str.replace(']','')\n",
    "df['airline_name'] = df['airline_name'].str.split('|').str[0]"
   ]
  },
  {
   "cell_type": "code",
   "execution_count": 5,
   "id": "d8afd0fd",
   "metadata": {},
   "outputs": [],
   "source": [
    "# delete the duplicate flight number in column flight_number behind the strings with a | separator\n",
    "\n",
    "df['flight_number'] = df['flight_number'].str.split('|').str[0]"
   ]
  },
  {
   "cell_type": "code",
   "execution_count": 6,
   "id": "e0683c56",
   "metadata": {},
   "outputs": [],
   "source": [
    "# Get the datetime info\n",
    "\n",
    "df['departure_month'] = pd.to_datetime(df['departure_time']).dt.month"
   ]
  },
  {
   "cell_type": "code",
   "execution_count": 7,
   "id": "5c62bb02",
   "metadata": {},
   "outputs": [
    {
     "data": {
      "text/plain": [
       "array(['USD'], dtype=object)"
      ]
     },
     "execution_count": 7,
     "metadata": {},
     "output_type": "execute_result"
    }
   ],
   "source": [
    "# Check Whether the units are standardized\n",
    "\n",
    "df['currency'].unique()"
   ]
  },
  {
   "cell_type": "code",
   "execution_count": 8,
   "id": "1fd856cf",
   "metadata": {},
   "outputs": [
    {
     "data": {
      "text/html": [
       "<div>\n",
       "<style scoped>\n",
       "    .dataframe tbody tr th:only-of-type {\n",
       "        vertical-align: middle;\n",
       "    }\n",
       "\n",
       "    .dataframe tbody tr th {\n",
       "        vertical-align: top;\n",
       "    }\n",
       "\n",
       "    .dataframe thead th {\n",
       "        text-align: right;\n",
       "    }\n",
       "</style>\n",
       "<table border=\"1\" class=\"dataframe\">\n",
       "  <thead>\n",
       "    <tr style=\"text-align: right;\">\n",
       "      <th></th>\n",
       "      <th>from_airport_code</th>\n",
       "      <th>from_country</th>\n",
       "      <th>dest_airport_code</th>\n",
       "      <th>dest_country</th>\n",
       "      <th>aircraft_type</th>\n",
       "      <th>airline_number</th>\n",
       "      <th>airline_name</th>\n",
       "      <th>flight_number</th>\n",
       "      <th>departure_time</th>\n",
       "      <th>arrival_time</th>\n",
       "      <th>duration</th>\n",
       "      <th>stops</th>\n",
       "      <th>price</th>\n",
       "      <th>currency</th>\n",
       "      <th>co2_emissions</th>\n",
       "      <th>avg_co2_emission_for_this_route</th>\n",
       "      <th>co2_percentage</th>\n",
       "      <th>scan_date</th>\n",
       "      <th>departure_month</th>\n",
       "    </tr>\n",
       "  </thead>\n",
       "  <tbody>\n",
       "    <tr>\n",
       "      <th>0</th>\n",
       "      <td>ALG</td>\n",
       "      <td>Algeria</td>\n",
       "      <td>AEP</td>\n",
       "      <td>Argentina</td>\n",
       "      <td>Airbus A318|Canadair RJ 1000|Airbus A330|Airbu...</td>\n",
       "      <td>multi</td>\n",
       "      <td>Air France</td>\n",
       "      <td>AF1491</td>\n",
       "      <td>2022-04-30 14:30:00</td>\n",
       "      <td>2022-05-01 10:15:00</td>\n",
       "      <td>1425</td>\n",
       "      <td>3</td>\n",
       "      <td>1279.0</td>\n",
       "      <td>USD</td>\n",
       "      <td>1320000.0</td>\n",
       "      <td>1320000.0</td>\n",
       "      <td>0</td>\n",
       "      <td>2022-04-29 17:52:59</td>\n",
       "      <td>4</td>\n",
       "    </tr>\n",
       "    <tr>\n",
       "      <th>1</th>\n",
       "      <td>ALG</td>\n",
       "      <td>Algeria</td>\n",
       "      <td>AEP</td>\n",
       "      <td>Argentina</td>\n",
       "      <td>Airbus A318|Canadair RJ 1000|Boeing 787|Airbus...</td>\n",
       "      <td>multi</td>\n",
       "      <td>Air France</td>\n",
       "      <td>AF1491</td>\n",
       "      <td>2022-04-30 14:30:00</td>\n",
       "      <td>2022-05-01 10:15:00</td>\n",
       "      <td>1425</td>\n",
       "      <td>3</td>\n",
       "      <td>1279.0</td>\n",
       "      <td>USD</td>\n",
       "      <td>1195000.0</td>\n",
       "      <td>1320000.0</td>\n",
       "      <td>-9</td>\n",
       "      <td>2022-04-29 17:52:59</td>\n",
       "      <td>4</td>\n",
       "    </tr>\n",
       "    <tr>\n",
       "      <th>2</th>\n",
       "      <td>ALG</td>\n",
       "      <td>Algeria</td>\n",
       "      <td>AEP</td>\n",
       "      <td>Argentina</td>\n",
       "      <td>Airbus A320|Airbus A321|Boeing 787|Airbus A320</td>\n",
       "      <td>multi</td>\n",
       "      <td>Air France</td>\n",
       "      <td>AF1855</td>\n",
       "      <td>2022-04-30 12:45:00</td>\n",
       "      <td>2022-05-01 10:15:00</td>\n",
       "      <td>1530</td>\n",
       "      <td>3</td>\n",
       "      <td>1284.0</td>\n",
       "      <td>USD</td>\n",
       "      <td>1248000.0</td>\n",
       "      <td>1320000.0</td>\n",
       "      <td>-5</td>\n",
       "      <td>2022-04-29 17:52:59</td>\n",
       "      <td>4</td>\n",
       "    </tr>\n",
       "    <tr>\n",
       "      <th>3</th>\n",
       "      <td>ALG</td>\n",
       "      <td>Algeria</td>\n",
       "      <td>AEP</td>\n",
       "      <td>Argentina</td>\n",
       "      <td>Airbus A318|Airbus A320|Boeing 787|Airbus A320</td>\n",
       "      <td>multi</td>\n",
       "      <td>Air France</td>\n",
       "      <td>AF1491</td>\n",
       "      <td>2022-04-30 14:30:00</td>\n",
       "      <td>2022-05-01 10:15:00</td>\n",
       "      <td>1425</td>\n",
       "      <td>3</td>\n",
       "      <td>1290.0</td>\n",
       "      <td>USD</td>\n",
       "      <td>1347000.0</td>\n",
       "      <td>1320000.0</td>\n",
       "      <td>2</td>\n",
       "      <td>2022-04-29 17:52:59</td>\n",
       "      <td>4</td>\n",
       "    </tr>\n",
       "    <tr>\n",
       "      <th>4</th>\n",
       "      <td>ALG</td>\n",
       "      <td>Algeria</td>\n",
       "      <td>AEP</td>\n",
       "      <td>Argentina</td>\n",
       "      <td>Airbus A321neo|Boeing 777|Airbus A320</td>\n",
       "      <td>multi</td>\n",
       "      <td>Lufthansa</td>\n",
       "      <td>LH1317</td>\n",
       "      <td>2022-04-30 12:35:00</td>\n",
       "      <td>2022-05-01 10:15:00</td>\n",
       "      <td>1540</td>\n",
       "      <td>2</td>\n",
       "      <td>1347.0</td>\n",
       "      <td>USD</td>\n",
       "      <td>1381000.0</td>\n",
       "      <td>1320000.0</td>\n",
       "      <td>4</td>\n",
       "      <td>2022-04-29 17:52:59</td>\n",
       "      <td>4</td>\n",
       "    </tr>\n",
       "  </tbody>\n",
       "</table>\n",
       "</div>"
      ],
      "text/plain": [
       "  from_airport_code from_country dest_airport_code dest_country  \\\n",
       "0               ALG      Algeria               AEP    Argentina   \n",
       "1               ALG      Algeria               AEP    Argentina   \n",
       "2               ALG      Algeria               AEP    Argentina   \n",
       "3               ALG      Algeria               AEP    Argentina   \n",
       "4               ALG      Algeria               AEP    Argentina   \n",
       "\n",
       "                                       aircraft_type airline_number  \\\n",
       "0  Airbus A318|Canadair RJ 1000|Airbus A330|Airbu...          multi   \n",
       "1  Airbus A318|Canadair RJ 1000|Boeing 787|Airbus...          multi   \n",
       "2     Airbus A320|Airbus A321|Boeing 787|Airbus A320          multi   \n",
       "3     Airbus A318|Airbus A320|Boeing 787|Airbus A320          multi   \n",
       "4              Airbus A321neo|Boeing 777|Airbus A320          multi   \n",
       "\n",
       "  airline_name flight_number       departure_time         arrival_time  \\\n",
       "0   Air France        AF1491  2022-04-30 14:30:00  2022-05-01 10:15:00   \n",
       "1   Air France        AF1491  2022-04-30 14:30:00  2022-05-01 10:15:00   \n",
       "2   Air France        AF1855  2022-04-30 12:45:00  2022-05-01 10:15:00   \n",
       "3   Air France        AF1491  2022-04-30 14:30:00  2022-05-01 10:15:00   \n",
       "4    Lufthansa        LH1317  2022-04-30 12:35:00  2022-05-01 10:15:00   \n",
       "\n",
       "   duration  stops   price currency  co2_emissions  \\\n",
       "0      1425      3  1279.0      USD      1320000.0   \n",
       "1      1425      3  1279.0      USD      1195000.0   \n",
       "2      1530      3  1284.0      USD      1248000.0   \n",
       "3      1425      3  1290.0      USD      1347000.0   \n",
       "4      1540      2  1347.0      USD      1381000.0   \n",
       "\n",
       "   avg_co2_emission_for_this_route co2_percentage            scan_date  \\\n",
       "0                        1320000.0              0  2022-04-29 17:52:59   \n",
       "1                        1320000.0             -9  2022-04-29 17:52:59   \n",
       "2                        1320000.0             -5  2022-04-29 17:52:59   \n",
       "3                        1320000.0              2  2022-04-29 17:52:59   \n",
       "4                        1320000.0              4  2022-04-29 17:52:59   \n",
       "\n",
       "   departure_month  \n",
       "0                4  \n",
       "1                4  \n",
       "2                4  \n",
       "3                4  \n",
       "4                4  "
      ]
     },
     "execution_count": 8,
     "metadata": {},
     "output_type": "execute_result"
    }
   ],
   "source": [
    "df['co2_percentage'] = df['co2_percentage'].str.replace('%','')\n",
    "df.head()"
   ]
  },
  {
   "cell_type": "code",
   "execution_count": 9,
   "id": "107faf7d",
   "metadata": {},
   "outputs": [],
   "source": [
    "# Change object variables to category type\n",
    "\n",
    "for col in df.columns:\n",
    "    # Check if the column is of object type\n",
    "    if df[col].dtype == 'object':\n",
    "        # If it is, convert it to category type\n",
    "        df[col] = df[col].astype('category')"
   ]
  },
  {
   "cell_type": "code",
   "execution_count": 10,
   "id": "cf9a70d8",
   "metadata": {},
   "outputs": [
    {
     "name": "stdout",
     "output_type": "stream",
     "text": [
      "<class 'pandas.core.frame.DataFrame'>\n",
      "Int64Index: 847355 entries, 0 to 998865\n",
      "Data columns (total 19 columns):\n",
      " #   Column                           Non-Null Count   Dtype   \n",
      "---  ------                           --------------   -----   \n",
      " 0   from_airport_code                847355 non-null  category\n",
      " 1   from_country                     847355 non-null  category\n",
      " 2   dest_airport_code                847355 non-null  category\n",
      " 3   dest_country                     847355 non-null  category\n",
      " 4   aircraft_type                    847355 non-null  category\n",
      " 5   airline_number                   847355 non-null  category\n",
      " 6   airline_name                     847355 non-null  category\n",
      " 7   flight_number                    847355 non-null  category\n",
      " 8   departure_time                   847355 non-null  category\n",
      " 9   arrival_time                     847355 non-null  category\n",
      " 10  duration                         847355 non-null  int64   \n",
      " 11  stops                            847355 non-null  int64   \n",
      " 12  price                            847355 non-null  float64 \n",
      " 13  currency                         847355 non-null  category\n",
      " 14  co2_emissions                    847355 non-null  float64 \n",
      " 15  avg_co2_emission_for_this_route  847355 non-null  float64 \n",
      " 16  co2_percentage                   847355 non-null  int64   \n",
      " 17  scan_date                        847355 non-null  category\n",
      " 18  departure_month                  847355 non-null  int64   \n",
      "dtypes: category(12), float64(3), int64(4)\n",
      "memory usage: 68.1 MB\n"
     ]
    }
   ],
   "source": [
    "df['co2_percentage'] = df['co2_percentage'].astype('int64')\n",
    "df.info()"
   ]
  },
  {
   "cell_type": "code",
   "execution_count": 11,
   "id": "ab0cf1f8",
   "metadata": {},
   "outputs": [],
   "source": [
    "# Convert text data to numbers\n",
    "\n",
    "df['from_country'] = df['from_country'].cat.codes\n",
    "df['dest_country'] = df['dest_country'].cat.codes\n",
    "df['airline_name'] = df['airline_name'].cat.codes"
   ]
  },
  {
   "cell_type": "code",
   "execution_count": 12,
   "id": "a8e16f16",
   "metadata": {},
   "outputs": [],
   "source": [
    "# Define the X columns and Y columns\n",
    "\n",
    "X = df[['from_country','dest_country','airline_name','duration','stops','co2_emissions','co2_percentage','departure_month']]\n",
    "Y = df[['price']]"
   ]
  },
  {
   "cell_type": "code",
   "execution_count": 13,
   "id": "9e9c5469",
   "metadata": {},
   "outputs": [],
   "source": [
    "# Standardization\n",
    "\n",
    "sc = StandardScaler()\n",
    "X = sc.fit_transform(X)"
   ]
  },
  {
   "cell_type": "code",
   "execution_count": 14,
   "id": "c43cb6d7",
   "metadata": {},
   "outputs": [],
   "source": [
    "# Split the dataset into training data and testing data\n",
    "\n",
    "Xtrain, Xtest, Ytrain, Ytest = train_test_split(X, Y, test_size = 0.2, random_state = 42)"
   ]
  },
  {
   "cell_type": "markdown",
   "id": "3a2dffcf",
   "metadata": {},
   "source": [
    "## Decision Tree Model"
   ]
  },
  {
   "cell_type": "code",
   "execution_count": 15,
   "id": "04b54a0c",
   "metadata": {},
   "outputs": [],
   "source": [
    "from sklearn.tree import DecisionTreeRegressor\n",
    "DTR = DecisionTreeRegressor().fit(Xtrain, Ytrain)\n",
    "Ypred = DTR.predict(Xtest)"
   ]
  },
  {
   "cell_type": "code",
   "execution_count": 16,
   "id": "d88bb6ae",
   "metadata": {},
   "outputs": [
    {
     "name": "stdout",
     "output_type": "stream",
     "text": [
      "R-squared: 0.82\n",
      "Mean squared error: 633280.23\n",
      "Mean absolute error: 308.73\n"
     ]
    }
   ],
   "source": [
    "# Evaluate the model's performance\n",
    "r_squared = r2_score(Ytest, Ypred)\n",
    "mse = mean_squared_error(Ytest, Ypred)\n",
    "mae = mean_absolute_error(Ytest, Ypred)\n",
    "\n",
    "# Print the evaluation metrics\n",
    "print(f\"R-squared: {r_squared:.2f}\")\n",
    "print(f\"Mean squared error: {mse:.2f}\")\n",
    "print(f\"Mean absolute error: {mae:.2f}\")"
   ]
  },
  {
   "cell_type": "code",
   "execution_count": 17,
   "id": "74daa395",
   "metadata": {},
   "outputs": [
    {
     "data": {
      "text/plain": [
       "['DecisionTree.joblib']"
      ]
     },
     "execution_count": 17,
     "metadata": {},
     "output_type": "execute_result"
    }
   ],
   "source": [
    "dump(DTR, 'DecisionTree.joblib')"
   ]
  },
  {
   "cell_type": "markdown",
   "id": "d614b42f",
   "metadata": {},
   "source": [
    "## KNN Model"
   ]
  },
  {
   "cell_type": "code",
   "execution_count": 18,
   "id": "4ea7c872",
   "metadata": {},
   "outputs": [],
   "source": [
    "from sklearn.neighbors import KNeighborsRegressor\n",
    "KN = DecisionTreeRegressor().fit(Xtrain, Ytrain)\n",
    "Ypred = KN.predict(Xtest)"
   ]
  },
  {
   "cell_type": "code",
   "execution_count": 19,
   "id": "eeb7a757",
   "metadata": {},
   "outputs": [
    {
     "name": "stdout",
     "output_type": "stream",
     "text": [
      "R-squared: 0.82\n",
      "Mean squared error: 636241.06\n",
      "Mean absolute error: 308.37\n"
     ]
    }
   ],
   "source": [
    "# Evaluate the model's performance\n",
    "r_squared = r2_score(Ytest, Ypred)\n",
    "mse = mean_squared_error(Ytest, Ypred)\n",
    "mae = mean_absolute_error(Ytest, Ypred)\n",
    "\n",
    "# Print the evaluation metrics\n",
    "print(f\"R-squared: {r_squared:.2f}\")\n",
    "print(f\"Mean squared error: {mse:.2f}\")\n",
    "print(f\"Mean absolute error: {mae:.2f}\")"
   ]
  },
  {
   "cell_type": "code",
   "execution_count": 20,
   "id": "6822214c",
   "metadata": {},
   "outputs": [
    {
     "data": {
      "text/plain": [
       "['KNN.joblib']"
      ]
     },
     "execution_count": 20,
     "metadata": {},
     "output_type": "execute_result"
    }
   ],
   "source": [
    "dump(KN, 'KNN.joblib')"
   ]
  }
 ],
 "metadata": {
  "kernelspec": {
   "display_name": "Python 3 (ipykernel)",
   "language": "python",
   "name": "python3"
  },
  "language_info": {
   "codemirror_mode": {
    "name": "ipython",
    "version": 3
   },
   "file_extension": ".py",
   "mimetype": "text/x-python",
   "name": "python",
   "nbconvert_exporter": "python",
   "pygments_lexer": "ipython3",
   "version": "3.9.7"
  }
 },
 "nbformat": 4,
 "nbformat_minor": 5
}
